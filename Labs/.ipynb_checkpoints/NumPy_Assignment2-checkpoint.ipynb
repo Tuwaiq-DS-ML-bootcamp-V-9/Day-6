{
 "cells": [
  {
   "cell_type": "markdown",
   "id": "5ffb93ae",
   "metadata": {},
   "source": [
    "# Q1: Import numpy library"
   ]
  },
  {
   "cell_type": "code",
   "execution_count": 1,
   "id": "936d4703",
   "metadata": {},
   "outputs": [],
   "source": [
    "# write your code here ^_^\n",
    "import numpy as np"
   ]
  },
  {
   "cell_type": "markdown",
   "id": "b6991a89",
   "metadata": {},
   "source": [
    "# Q2: Generate a sequence of 15 floats using linspace() function"
   ]
  },
  {
   "cell_type": "code",
   "execution_count": 4,
   "id": "43bf04a5",
   "metadata": {},
   "outputs": [
    {
     "data": {
      "text/plain": [
       "array([ 0.        ,  1.07142857,  2.14285714,  3.21428571,  4.28571429,\n",
       "        5.35714286,  6.42857143,  7.5       ,  8.57142857,  9.64285714,\n",
       "       10.71428571, 11.78571429, 12.85714286, 13.92857143, 15.        ])"
      ]
     },
     "execution_count": 4,
     "metadata": {},
     "output_type": "execute_result"
    }
   ],
   "source": [
    "# write your code here ^_^\n",
    "np.linspace(0,15,15)"
   ]
  },
  {
   "cell_type": "markdown",
   "id": "7144bba8",
   "metadata": {},
   "source": [
    "# Q3: Create a 3-D array in shape (2, 2, 3) containing the four arrays given below \n",
    "Note : the array's name is up to you.\n",
    "\n",
    "|      |       |          |         |\n",
    "|------| ----- | -------- | ------- |\n",
    "|arr1 | 1.1    | 2.1       | 3.1        |\n",
    "|arr2 | 4.1    | 5.1       | 6.1        |\n",
    "|arr3 | 7.1    | 8.1       | 9.1        |\n",
    "|arr4 | 10.1   | 11.1      | 12.1       |"
   ]
  },
  {
   "cell_type": "code",
   "execution_count": 7,
   "id": "c1c3f9dc",
   "metadata": {},
   "outputs": [
    {
     "name": "stdout",
     "output_type": "stream",
     "text": [
      "(2, 2, 3)\n"
     ]
    }
   ],
   "source": [
    "# write your code here ^_^\n",
    "arr1 = np.array([1.1,2.1,3.1])\n",
    "arr2 = np.array([4.1,5.1,6.1])\n",
    "arr3 = np.array([7.1,8.1,9.1])\n",
    "arr4 = np.array([10.1,11.1,12.1])\n",
    "Array = np.array([[arr1,arr2],[arr3,arr4]])\n",
    "print(Array.shape)"
   ]
  },
  {
   "cell_type": "markdown",
   "id": "807acbf6",
   "metadata": {},
   "source": [
    "# Q4: Print the following:\n",
    "Note: use the same array from Q3.\n",
    "- Array's type.\n",
    "- Array's elements datatype.\n",
    "- Array's shape.\n",
    "- Array's size.\n",
    "- Array's dimention."
   ]
  },
  {
   "cell_type": "code",
   "execution_count": 10,
   "id": "6e90d6a0",
   "metadata": {},
   "outputs": [
    {
     "name": "stdout",
     "output_type": "stream",
     "text": [
      "The type is  <class 'numpy.ndarray'>\n",
      "The elements datatype is  float64\n",
      "The shape is  (2, 2, 3)\n",
      "The size is  12\n",
      "The dimention is  3\n"
     ]
    }
   ],
   "source": [
    "# write your code here ^_^\n",
    "print(\"The type is \",type(Array))\n",
    "print(\"The elements datatype is \",Array.dtype)\n",
    "print(\"The shape is \",Array.shape)\n",
    "print(\"The size is \",Array.size)\n",
    "print(\"The dimention is \",Array.ndim)"
   ]
  },
  {
   "cell_type": "markdown",
   "id": "db4958b5",
   "metadata": {},
   "source": [
    "# Q5:  Change the array dimention from 3-D to 4-D\n",
    "Note: use the same array from Q3.\n",
    "- Create a new array to hold the changes. \n",
    "- Print the new array's dimention and shape."
   ]
  },
  {
   "cell_type": "code",
   "execution_count": 13,
   "id": "e9f5c88c",
   "metadata": {},
   "outputs": [
    {
     "name": "stdout",
     "output_type": "stream",
     "text": [
      "[[[[ 1.1]\n",
      "   [ 2.1]\n",
      "   [ 3.1]]\n",
      "\n",
      "  [[ 4.1]\n",
      "   [ 5.1]\n",
      "   [ 6.1]]]\n",
      "\n",
      "\n",
      " [[[ 7.1]\n",
      "   [ 8.1]\n",
      "   [ 9.1]]\n",
      "\n",
      "  [[10.1]\n",
      "   [11.1]\n",
      "   [12.1]]]]\n",
      "The shape is  (2, 2, 3, 1)\n"
     ]
    }
   ],
   "source": [
    "# write your code here ^_^\n",
    "newArray = Array\n",
    "newArray = newArray.reshape(2, 2, 3, 1)\n",
    "print(newArray)\n",
    "print(\"The shape is \",newArray.shape)"
   ]
  },
  {
   "cell_type": "markdown",
   "id": "454f2504",
   "metadata": {},
   "source": [
    "# Q6: Change the array's elements datatype to integer  \n",
    "Note: use the same array from Q5.\n",
    "\n",
    "- Create a new array to hold the changes. \n",
    "- Print the new array."
   ]
  },
  {
   "cell_type": "code",
   "execution_count": 16,
   "id": "8135b045",
   "metadata": {},
   "outputs": [
    {
     "name": "stdout",
     "output_type": "stream",
     "text": [
      "[[[[ 1]\n",
      "   [ 2]\n",
      "   [ 3]]\n",
      "\n",
      "  [[ 4]\n",
      "   [ 5]\n",
      "   [ 6]]]\n",
      "\n",
      "\n",
      " [[[ 7]\n",
      "   [ 8]\n",
      "   [ 9]]\n",
      "\n",
      "  [[10]\n",
      "   [11]\n",
      "   [12]]]]\n"
     ]
    }
   ],
   "source": [
    "# write your code here ^_^\n",
    "newarr = newArray.astype('i')\n",
    "print(newarr)"
   ]
  },
  {
   "cell_type": "markdown",
   "id": "ab90badc",
   "metadata": {},
   "source": [
    "# Q7: Print all array's elements using for loop\n",
    "Note: use the same array from Q6.\n",
    "\n",
    "Hint: use nditer()"
   ]
  },
  {
   "cell_type": "code",
   "execution_count": 19,
   "id": "a0d58d15",
   "metadata": {},
   "outputs": [
    {
     "name": "stdout",
     "output_type": "stream",
     "text": [
      "1\n",
      "2\n",
      "3\n",
      "4\n",
      "5\n",
      "6\n",
      "7\n",
      "8\n",
      "9\n",
      "10\n",
      "11\n",
      "12\n"
     ]
    }
   ],
   "source": [
    "# write your code here ^_^\n",
    "for i in np.nditer(newarr):\n",
    "    print(i)"
   ]
  },
  {
   "cell_type": "markdown",
   "id": "afa8b5f3",
   "metadata": {},
   "source": [
    "# Q8:  Print number 8 using array slicing\n",
    "Note: use the same array from Q6."
   ]
  },
  {
   "cell_type": "code",
   "execution_count": 22,
   "id": "6e12e2d7",
   "metadata": {},
   "outputs": [
    {
     "name": "stdout",
     "output_type": "stream",
     "text": [
      "8\n"
     ]
    }
   ],
   "source": [
    "# write your code here ^_^\n",
    "print(newarr[1,0,1,0])"
   ]
  },
  {
   "cell_type": "markdown",
   "id": "e2e71895",
   "metadata": {},
   "source": [
    "# Q9: Print number 5 and number 6 using array slicing\n",
    "Note: use the same array from Q6."
   ]
  },
  {
   "cell_type": "code",
   "execution_count": 44,
   "id": "c3218bcb",
   "metadata": {},
   "outputs": [
    {
     "name": "stdout",
     "output_type": "stream",
     "text": [
      "5\n",
      "6\n"
     ]
    }
   ],
   "source": [
    "# write your code here ^_^\n",
    "print(newarr[0,1,1,0])\n",
    "print(newarr[0,1,2,0])"
   ]
  },
  {
   "cell_type": "markdown",
   "id": "e5d63cd3",
   "metadata": {},
   "source": [
    "# Q10: Search for number 8 using where()\n",
    "Note: use the same array from Q6.\n",
    "\n",
    "Note: where() is only used with small data.\n",
    "\n",
    "*the output represents the path of the index that leads to number 8*"
   ]
  },
  {
   "cell_type": "code",
   "execution_count": 56,
   "id": "ddaf0146",
   "metadata": {},
   "outputs": [
    {
     "data": {
      "text/plain": [
       "(array([1], dtype=int64),\n",
       " array([0], dtype=int64),\n",
       " array([1], dtype=int64),\n",
       " array([0], dtype=int64))"
      ]
     },
     "execution_count": 56,
     "metadata": {},
     "output_type": "execute_result"
    }
   ],
   "source": [
    "# write your code here ^_^\n",
    "np.where(newarr == 8)"
   ]
  },
  {
   "cell_type": "markdown",
   "id": "c89f41ad",
   "metadata": {},
   "source": [
    "# Q11: Reshape the array as the following\n",
    "\n",
    "    array([[[ 1, 2],\n",
    "            [ 3,  4],\n",
    "            [ 5,  6]],\n",
    "\n",
    "           [[ 7,  8],\n",
    "            [ 9, 10],\n",
    "            [11, 12]]])\n",
    "            \n",
    " Note: use the same array from Q6."
   ]
  },
  {
   "cell_type": "code",
   "execution_count": 64,
   "id": "d9b632bd",
   "metadata": {},
   "outputs": [
    {
     "data": {
      "text/plain": [
       "array([[[ 1,  2],\n",
       "        [ 3,  4],\n",
       "        [ 5,  6]],\n",
       "\n",
       "       [[ 7,  8],\n",
       "        [ 9, 10],\n",
       "        [11, 12]]], dtype=int32)"
      ]
     },
     "execution_count": 64,
     "metadata": {},
     "output_type": "execute_result"
    }
   ],
   "source": [
    "# write your code here ^_^\n",
    "newarr = newarr.reshape(2,3,2)\n",
    "newarr"
   ]
  },
  {
   "cell_type": "markdown",
   "id": "539c16b1",
   "metadata": {},
   "source": [
    "# Q12: Join the given arrays below \n",
    "    arr1 = np.array([['A', 'B'], ['E', 'F']])\n",
    "    arr2 = np.array([['C', 'D'], ['G', 'H']])\n",
    "## Q12.1: Join the arrays without specifying the axis "
   ]
  },
  {
   "cell_type": "code",
   "execution_count": 80,
   "id": "d6acdeaf",
   "metadata": {},
   "outputs": [
    {
     "data": {
      "text/plain": [
       "array(['A', 'B', 'E', 'F', 'C', 'D', 'G', 'H'], dtype='<U1')"
      ]
     },
     "execution_count": 80,
     "metadata": {},
     "output_type": "execute_result"
    }
   ],
   "source": [
    "# write your code here ^_^\n",
    "arr1 = np.array([['A', 'B'], ['E', 'F']])\n",
    "arr2 = np.array([['C', 'D'], ['G', 'H']])\n",
    "arr3 = np.concatenate([arr1, arr2] ,axis = None)\n",
    "arr3"
   ]
  },
  {
   "cell_type": "markdown",
   "id": "1a37dd47",
   "metadata": {},
   "source": [
    "# Q12.2: Join the arrays along rows with axis = 1 "
   ]
  },
  {
   "cell_type": "code",
   "execution_count": 84,
   "id": "b849658c",
   "metadata": {},
   "outputs": [
    {
     "data": {
      "text/plain": [
       "array([['A', 'B', 'C', 'D'],\n",
       "       ['E', 'F', 'G', 'H']], dtype='<U1')"
      ]
     },
     "execution_count": 84,
     "metadata": {},
     "output_type": "execute_result"
    }
   ],
   "source": [
    "# write your code here ^_^\n",
    "arr4 = np.concatenate([arr1, arr2] ,axis = 1)\n",
    "arr4"
   ]
  },
  {
   "cell_type": "markdown",
   "id": "7296eecf",
   "metadata": {},
   "source": [
    "# Q13: Split the array into two arrays with axis = 1, each array should contain four arrays. \n",
    "Note: use the same array from Q12.1"
   ]
  },
  {
   "cell_type": "code",
   "execution_count": 106,
   "id": "7f7f5e49",
   "metadata": {},
   "outputs": [
    {
     "ename": "TypeError",
     "evalue": "hsplit() got an unexpected keyword argument 'axis'",
     "output_type": "error",
     "traceback": [
      "\u001b[1;31m---------------------------------------------------------------------------\u001b[0m",
      "\u001b[1;31mTypeError\u001b[0m                                 Traceback (most recent call last)",
      "Cell \u001b[1;32mIn[106], line 2\u001b[0m\n\u001b[0;32m      1\u001b[0m \u001b[38;5;66;03m# write your code here ^_^\u001b[39;00m\n\u001b[1;32m----> 2\u001b[0m arr5 \u001b[38;5;241m=\u001b[39m np\u001b[38;5;241m.\u001b[39mhsplit(arr3,\u001b[38;5;241m2\u001b[39m,axis\u001b[38;5;241m=\u001b[39m\u001b[38;5;241m1\u001b[39m)\n\u001b[0;32m      3\u001b[0m arr5\n",
      "\u001b[1;31mTypeError\u001b[0m: hsplit() got an unexpected keyword argument 'axis'"
     ]
    }
   ],
   "source": [
    "# write your code here ^_^\n",
    "arr5 = np.hsplit(arr3,2,axis=1)\n",
    "arr5"
   ]
  },
  {
   "cell_type": "code",
   "execution_count": null,
   "id": "babbecd0-0672-4482-be95-a5fc2d5baeb6",
   "metadata": {},
   "outputs": [],
   "source": []
  }
 ],
 "metadata": {
  "kernelspec": {
   "display_name": "Python [conda env:base] *",
   "language": "python",
   "name": "conda-base-py"
  },
  "language_info": {
   "codemirror_mode": {
    "name": "ipython",
    "version": 3
   },
   "file_extension": ".py",
   "mimetype": "text/x-python",
   "name": "python",
   "nbconvert_exporter": "python",
   "pygments_lexer": "ipython3",
   "version": "3.12.7"
  }
 },
 "nbformat": 4,
 "nbformat_minor": 5
}
