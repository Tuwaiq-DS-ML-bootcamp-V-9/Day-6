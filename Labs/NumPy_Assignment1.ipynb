{
 "cells": [
  {
   "cell_type": "code",
   "execution_count": 1,
   "id": "212fd1ba",
   "metadata": {},
   "outputs": [],
   "source": [
    "import numpy as np"
   ]
  },
  {
   "cell_type": "markdown",
   "id": "10803eb0",
   "metadata": {},
   "source": [
    "## Q#1: Create x array with elements equal to 1."
   ]
  },
  {
   "cell_type": "code",
   "execution_count": 2,
   "id": "3307454f",
   "metadata": {},
   "outputs": [
    {
     "name": "stdout",
     "output_type": "stream",
     "text": [
      "[1. 1. 1. 1. 1.]\n"
     ]
    }
   ],
   "source": [
    "# Creating an array of ones\n",
    "x = np.ones(5)  # Change 5 to any desired size\n",
    "\n",
    "print(x)\n"
   ]
  },
  {
   "cell_type": "markdown",
   "id": "7795306d",
   "metadata": {},
   "source": [
    "## Q#2: Create y array with elements equal to 0."
   ]
  },
  {
   "cell_type": "code",
   "execution_count": 3,
   "id": "9550b063",
   "metadata": {},
   "outputs": [
    {
     "name": "stdout",
     "output_type": "stream",
     "text": [
      "[0. 0. 0. 0. 0.]\n"
     ]
    }
   ],
   "source": [
    "# Creating an array of zeros\n",
    "y = np.zeros(5)  # Change 5 to any desired size\n",
    "\n",
    "print(y)\n"
   ]
  },
  {
   "cell_type": "markdown",
   "id": "cde6a939",
   "metadata": {},
   "source": [
    "## Q#3: Add x and y arrays."
   ]
  },
  {
   "cell_type": "code",
   "execution_count": 4,
   "id": "71070d1d",
   "metadata": {},
   "outputs": [
    {
     "name": "stdout",
     "output_type": "stream",
     "text": [
      "[1. 1. 1. 1. 1.]\n"
     ]
    }
   ],
   "source": [
    "\n",
    "# Creating x and y arrays\n",
    "x = np.ones(5)  # Array of ones\n",
    "y = np.zeros(5)  # Array of zeros\n",
    "\n",
    "# Adding x and y\n",
    "result = x + y\n",
    "\n",
    "print(result)\n"
   ]
  },
  {
   "cell_type": "markdown",
   "id": "ed854f4c",
   "metadata": {},
   "source": [
    "## Q#4: Print x array characteristics (e.g: dimension, shape, size, type)."
   ]
  },
  {
   "cell_type": "code",
   "execution_count": 5,
   "id": "32627c83",
   "metadata": {},
   "outputs": [
    {
     "name": "stdout",
     "output_type": "stream",
     "text": [
      "Dimension: 1\n",
      "Shape: (5,)\n",
      "Size: 5\n",
      "Data type: float64\n"
     ]
    }
   ],
   "source": [
    "\n",
    "\n",
    "# Creating x array\n",
    "x = np.ones(5)  # Change 5 to any desired size\n",
    "\n",
    "# Printing characteristics\n",
    "print(\"Dimension:\", x.ndim)       # Number of dimensions\n",
    "print(\"Shape:\", x.shape)          # Shape of the array\n",
    "print(\"Size:\", x.size)            # Number of elements\n",
    "print(\"Data type:\", x.dtype)      # Data type of elements\n"
   ]
  },
  {
   "cell_type": "markdown",
   "id": "dbd46a73",
   "metadata": {},
   "source": [
    "## Q#5: Create a 2D array \"called w\" as the following:\n",
    "\n",
    "|       |          |\n",
    "| ----- | -------- |\n",
    "| 11    | 12       |\n",
    "| 13    | 14       |\n",
    "| 15    | 16       |\n"
   ]
  },
  {
   "cell_type": "code",
   "execution_count": 6,
   "id": "b9c7bbb0",
   "metadata": {},
   "outputs": [
    {
     "name": "stdout",
     "output_type": "stream",
     "text": [
      "[[11 12]\n",
      " [13 14]\n",
      " [15 16]]\n"
     ]
    }
   ],
   "source": [
    "# Creating a 2D array w\n",
    "w = np.array([[11, 12],\n",
    "              [13, 14],\n",
    "              [15, 16]])\n",
    "\n",
    "print(w)\n"
   ]
  },
  {
   "cell_type": "markdown",
   "id": "0e62bd09",
   "metadata": {},
   "source": [
    "## Q#6: Create z array contains the numbers from 1 to 3."
   ]
  },
  {
   "cell_type": "code",
   "execution_count": 7,
   "id": "cee8aba0",
   "metadata": {},
   "outputs": [
    {
     "name": "stdout",
     "output_type": "stream",
     "text": [
      "[1 2 3]\n"
     ]
    }
   ],
   "source": [
    "\n",
    "# Creating z array with numbers from 1 to 3\n",
    "z = np.arange(1, 4)  # 4 is exclusive\n",
    "\n",
    "print(z)\n"
   ]
  },
  {
   "cell_type": "markdown",
   "id": "32b00711",
   "metadata": {},
   "source": [
    "## Q#7: Combine the arrays z and w in horizontal way then save it in a new variable \"newArray\"."
   ]
  },
  {
   "cell_type": "code",
   "execution_count": 8,
   "id": "d218f892",
   "metadata": {},
   "outputs": [
    {
     "name": "stdout",
     "output_type": "stream",
     "text": [
      "[[ 1 11 12]\n",
      " [ 2 13 14]\n",
      " [ 3 15 16]]\n"
     ]
    }
   ],
   "source": [
    "# Creating z array\n",
    "z = np.arange(1, 4).reshape(3, 1)  # Reshaping to (3,1) for proper horizontal stacking\n",
    "\n",
    "# Creating w array\n",
    "w = np.array([[11, 12],\n",
    "              [13, 14],\n",
    "              [15, 16]])\n",
    "\n",
    "# Combining z and w horizontally\n",
    "newArray = np.hstack((z, w))\n",
    "\n",
    "print(newArray)\n"
   ]
  },
  {
   "cell_type": "markdown",
   "id": "7e009910",
   "metadata": {},
   "source": [
    "## Q#8: Print all elements of \"newArray\" using the loop."
   ]
  },
  {
   "cell_type": "code",
   "execution_count": 9,
   "id": "abbed923",
   "metadata": {},
   "outputs": [
    {
     "name": "stdout",
     "output_type": "stream",
     "text": [
      "1 11 12 \n",
      "2 13 14 \n",
      "3 15 16 \n"
     ]
    }
   ],
   "source": [
    "\n",
    "\n",
    "# Creating newArray (if not already created)\n",
    "z = np.arange(1, 4).reshape(3, 1)\n",
    "w = np.array([[11, 12],\n",
    "              [13, 14],\n",
    "              [15, 16]])\n",
    "newArray = np.hstack((z, w))\n",
    "\n",
    "# Printing elements using nested loops\n",
    "for row in newArray:\n",
    "    for elem in row:\n",
    "        print(elem, end=\" \")\n",
    "    print()  # Newline after each row\n"
   ]
  },
  {
   "cell_type": "markdown",
   "id": "011c6d2d",
   "metadata": {},
   "source": [
    "## Q#9: Reverse the columns and rows of \"newArray\"."
   ]
  },
  {
   "cell_type": "code",
   "execution_count": 10,
   "id": "12e3f0db",
   "metadata": {},
   "outputs": [
    {
     "name": "stdout",
     "output_type": "stream",
     "text": [
      "[[16 15  3]\n",
      " [14 13  2]\n",
      " [12 11  1]]\n"
     ]
    }
   ],
   "source": [
    "\n",
    "\n",
    "# Creating newArray\n",
    "z = np.arange(1, 4).reshape(3, 1)\n",
    "w = np.array([[11, 12],\n",
    "              [13, 14],\n",
    "              [15, 16]])\n",
    "newArray = np.hstack((z, w))\n",
    "\n",
    "# Reversing both rows and columns\n",
    "reversedArray = newArray[::-1, ::-1]\n",
    "\n",
    "print(reversedArray)\n"
   ]
  },
  {
   "cell_type": "markdown",
   "id": "f40b57c3",
   "metadata": {},
   "source": [
    "## Q#10: Decrement all elements of \"newArray\" with 1."
   ]
  },
  {
   "cell_type": "code",
   "execution_count": 12,
   "id": "aea004df",
   "metadata": {},
   "outputs": [
    {
     "name": "stdout",
     "output_type": "stream",
     "text": [
      "[[ 0 10 11]\n",
      " [ 1 12 13]\n",
      " [ 2 14 15]]\n"
     ]
    }
   ],
   "source": [
    "\n",
    "\n",
    "# Creating newArray \n",
    "z = np.arange(1, 4).reshape(3, 1)\n",
    "w = np.array([[11, 12],\n",
    "              [13, 14],\n",
    "              [15, 16]])\n",
    "newArray = np.hstack((z, w))\n",
    "\n",
    "# Decrementing all elements by 1\n",
    "newArray -= 1\n",
    "\n",
    "print(newArray)\n"
   ]
  },
  {
   "cell_type": "markdown",
   "id": "8901e8be",
   "metadata": {},
   "source": [
    "## Q#11: Find smallest and biggest values in \"newArray\"."
   ]
  },
  {
   "cell_type": "code",
   "execution_count": 14,
   "id": "4ea08613",
   "metadata": {},
   "outputs": [
    {
     "name": "stdout",
     "output_type": "stream",
     "text": [
      "Smallest value: 1\n",
      "Biggest value: 16\n"
     ]
    }
   ],
   "source": [
    "\n",
    "\n",
    "# Creating newArray (if not already created)\n",
    "z = np.arange(1, 4).reshape(3, 1)\n",
    "w = np.array([[11, 12],\n",
    "              [13, 14],\n",
    "              [15, 16]])\n",
    "newArray = np.hstack((z, w))\n",
    "\n",
    "# Finding smallest and biggest values\n",
    "smallest_value = np.min(newArray)\n",
    "biggest_value = np.max(newArray)\n",
    "\n",
    "print(\"Smallest value:\", smallest_value)\n",
    "print(\"Biggest value:\", biggest_value)\n"
   ]
  },
  {
   "cell_type": "markdown",
   "id": "c5d5d4ca",
   "metadata": {},
   "source": [
    "## Q#12: Print the first row of \"newArray\" using indexing."
   ]
  },
  {
   "cell_type": "code",
   "execution_count": 15,
   "id": "73e3b5a5",
   "metadata": {},
   "outputs": [
    {
     "name": "stdout",
     "output_type": "stream",
     "text": [
      "First row: [ 1 11 12]\n"
     ]
    }
   ],
   "source": [
    "\n",
    "\n",
    "# Creating newArray (if not already created)\n",
    "z = np.arange(1, 4).reshape(3, 1)\n",
    "w = np.array([[11, 12],\n",
    "              [13, 14],\n",
    "              [15, 16]])\n",
    "newArray = np.hstack((z, w))\n",
    "\n",
    "# Printing the first row\n",
    "first_row = newArray[0]  # Index 0 represents the first row\n",
    "\n",
    "print(\"First row:\", first_row)\n"
   ]
  },
  {
   "cell_type": "markdown",
   "id": "78f4d6c1",
   "metadata": {},
   "source": [
    "## Q#13: Print the number equals 12 of \"newArray\" using indexing."
   ]
  },
  {
   "cell_type": "code",
   "execution_count": 16,
   "id": "7ad660b7",
   "metadata": {},
   "outputs": [
    {
     "name": "stdout",
     "output_type": "stream",
     "text": [
      "Number at the specified index: 12\n"
     ]
    }
   ],
   "source": [
    "\n",
    "\n",
    "# Creating newArray (if not already created)\n",
    "z = np.arange(1, 4).reshape(3, 1)\n",
    "w = np.array([[11, 12],\n",
    "              [13, 14],\n",
    "              [15, 16]])\n",
    "newArray = np.hstack((z, w))\n",
    "\n",
    "# Finding and printing the number 12 using indexing\n",
    "number_12 = newArray[0, 2]  # First row (index 0), third column (index 2)\n",
    "\n",
    "print(\"Number at the specified index:\", number_12)\n"
   ]
  },
  {
   "cell_type": "markdown",
   "id": "932b5c3d",
   "metadata": {},
   "source": [
    "## Q#14: Print the numbers equal 0 and 13 of \"newArray\" using indexing."
   ]
  },
  {
   "cell_type": "code",
   "execution_count": 17,
   "id": "31fb5fd0",
   "metadata": {},
   "outputs": [
    {
     "name": "stdout",
     "output_type": "stream",
     "text": [
      "Number 0: 0\n",
      "Number 13: 13\n"
     ]
    }
   ],
   "source": [
    "\n",
    "\n",
    "# Creating newArray (if not already created)\n",
    "z = np.arange(1, 4).reshape(3, 1)\n",
    "w = np.array([[11, 12],\n",
    "              [13, 14],\n",
    "              [15, 16]])\n",
    "newArray = np.hstack((z, w))\n",
    "\n",
    "# Decrementing all elements by 1 (if required from Q#10)\n",
    "newArray -= 1  \n",
    "\n",
    "# Accessing the numbers 0 and 13 using indexing\n",
    "num_0 = newArray[0, 0]  # First row, first column\n",
    "num_13 = newArray[1, 2]  # Second row, third column\n",
    "\n",
    "print(\"Number 0:\", num_0)\n",
    "print(\"Number 13:\", num_13)\n"
   ]
  },
  {
   "cell_type": "markdown",
   "id": "27e0f68e",
   "metadata": {},
   "source": [
    "## Q#15: Change the shape of \"newArray\" to (9,1)."
   ]
  },
  {
   "cell_type": "code",
   "execution_count": 18,
   "id": "35f224ad",
   "metadata": {},
   "outputs": [
    {
     "name": "stdout",
     "output_type": "stream",
     "text": [
      "Reshaped newArray:\n",
      " [[ 1]\n",
      " [11]\n",
      " [12]\n",
      " [ 2]\n",
      " [13]\n",
      " [14]\n",
      " [ 3]\n",
      " [15]\n",
      " [16]]\n"
     ]
    }
   ],
   "source": [
    "\n",
    "\n",
    "# Creating newArray (if not already created)\n",
    "z = np.arange(1, 4).reshape(3, 1)\n",
    "w = np.array([[11, 12],\n",
    "              [13, 14],\n",
    "              [15, 16]])\n",
    "newArray = np.hstack((z, w))\n",
    "\n",
    "# Reshaping newArray to (9,1)\n",
    "newArray = newArray.reshape(9, 1)\n",
    "\n",
    "print(\"Reshaped newArray:\\n\", newArray)\n"
   ]
  },
  {
   "cell_type": "markdown",
   "id": "e6d104c5",
   "metadata": {},
   "source": [
    "## Q#16: Change the shape of \"newArray\" to (3,2)."
   ]
  },
  {
   "cell_type": "code",
   "execution_count": 19,
   "id": "724d51d5",
   "metadata": {},
   "outputs": [
    {
     "name": "stdout",
     "output_type": "stream",
     "text": [
      "Reshaped newArray (3,2):\n",
      " [[ 1 11]\n",
      " [12  2]\n",
      " [13 14]]\n"
     ]
    }
   ],
   "source": [
    "\n",
    "\n",
    "# Creating newArray (if not already created)\n",
    "z = np.arange(1, 4).reshape(3, 1)\n",
    "w = np.array([[11, 12],\n",
    "              [13, 14],\n",
    "              [15, 16]])\n",
    "newArray = np.hstack((z, w))\n",
    "\n",
    "# Selecting the first 6 elements and reshaping to (3,2)\n",
    "newArray_subset = newArray.flatten()[:6].reshape(3, 2)\n",
    "\n",
    "print(\"Reshaped newArray (3,2):\\n\", newArray_subset)\n"
   ]
  },
  {
   "cell_type": "markdown",
   "id": "09567fdc",
   "metadata": {},
   "source": [
    "# Well Done 🎉"
   ]
  }
 ],
 "metadata": {
  "kernelspec": {
   "display_name": "base",
   "language": "python",
   "name": "python3"
  },
  "language_info": {
   "codemirror_mode": {
    "name": "ipython",
    "version": 3
   },
   "file_extension": ".py",
   "mimetype": "text/x-python",
   "name": "python",
   "nbconvert_exporter": "python",
   "pygments_lexer": "ipython3",
   "version": "3.12.7"
  }
 },
 "nbformat": 4,
 "nbformat_minor": 5
}
